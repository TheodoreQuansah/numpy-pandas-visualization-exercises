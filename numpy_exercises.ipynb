{
 "cells": [
  {
   "cell_type": "markdown",
   "id": "d409a487-66b9-4921-a46b-20e72e73369e",
   "metadata": {},
   "source": [
    "Use the following code for the questions below:"
   ]
  },
  {
   "cell_type": "code",
   "execution_count": 5,
   "id": "c0518a85-e13c-42dd-83dd-d816bc00fffb",
   "metadata": {},
   "outputs": [],
   "source": [
    "import numpy as np"
   ]
  },
  {
   "cell_type": "code",
   "execution_count": 314,
   "id": "d1008b0c-359c-4f10-9133-ddf8c5b1ae9a",
   "metadata": {},
   "outputs": [],
   "source": [
    "a = np.array([4, 10, 12, 23, -2, -1, 0, 0, 0, -6, 3, -7])"
   ]
  },
  {
   "cell_type": "code",
   "execution_count": null,
   "id": "a3afea91-9808-43f2-90f3-373a6dd5301f",
   "metadata": {},
   "outputs": [],
   "source": [
    "How many negative numbers are there?"
   ]
  },
  {
   "cell_type": "code",
   "execution_count": 53,
   "id": "58a883bd-e164-4ac9-8360-e2a522f6fae0",
   "metadata": {},
   "outputs": [],
   "source": [
    "neg_no = a[a < 0]"
   ]
  },
  {
   "cell_type": "code",
   "execution_count": 315,
   "id": "21d47469-9970-4340-8f06-a2dabcca26a0",
   "metadata": {},
   "outputs": [
    {
     "data": {
      "text/plain": [
       "4"
      ]
     },
     "execution_count": 315,
     "metadata": {},
     "output_type": "execute_result"
    }
   ],
   "source": [
    "len(neg_no)"
   ]
  },
  {
   "cell_type": "markdown",
   "id": "ec07a9b1-42e5-4f0e-87bf-2c67983ee9a7",
   "metadata": {},
   "source": [
    "How many positive numbers are there?"
   ]
  },
  {
   "cell_type": "code",
   "execution_count": 55,
   "id": "f8459285-b552-4caa-b098-52b131ab2aeb",
   "metadata": {},
   "outputs": [],
   "source": [
    "pos_no = a[a > 0]"
   ]
  },
  {
   "cell_type": "code",
   "execution_count": 56,
   "id": "5c5a9044-bb92-446a-90a6-67484ae94042",
   "metadata": {},
   "outputs": [
    {
     "data": {
      "text/plain": [
       "5"
      ]
     },
     "execution_count": 56,
     "metadata": {},
     "output_type": "execute_result"
    }
   ],
   "source": [
    "len(pos_no)"
   ]
  },
  {
   "cell_type": "markdown",
   "id": "f38e762d-a116-4cde-9dfe-274c198264f8",
   "metadata": {},
   "source": [
    "How many even positive numbers are there?"
   ]
  },
  {
   "cell_type": "code",
   "execution_count": 58,
   "id": "dfe77c31-2443-4857-8dd4-359c9d65e7d5",
   "metadata": {},
   "outputs": [
    {
     "data": {
      "text/plain": [
       "3"
      ]
     },
     "execution_count": 58,
     "metadata": {},
     "output_type": "execute_result"
    }
   ],
   "source": [
    "\n",
    "pos_no = a[a > 0]\n",
    "\n",
    "even_pos_no = pos_no[pos_no % 2 == 0]\n",
    "\n",
    "len(even_pos_no)"
   ]
  },
  {
   "cell_type": "markdown",
   "id": "a042b483-6d2b-4082-af3d-6f3421574d3f",
   "metadata": {},
   "source": [
    "If you were to add 3 to each data point, how many positive numbers would there be?"
   ]
  },
  {
   "cell_type": "code",
   "execution_count": 68,
   "id": "ef7de559-eaaa-4807-b642-1c7fc9cc062d",
   "metadata": {},
   "outputs": [
    {
     "data": {
      "text/plain": [
       "10"
      ]
     },
     "execution_count": 68,
     "metadata": {},
     "output_type": "execute_result"
    }
   ],
   "source": [
    "b = a + 3\n",
    "pos_no2 = b[b>0]\n",
    "len(pos_no2)"
   ]
  },
  {
   "cell_type": "markdown",
   "id": "0373c1b8-184e-440a-ab2f-d5146e0ce79b",
   "metadata": {},
   "source": [
    "If you squared each number, what would the new mean and standard deviation be?"
   ]
  },
  {
   "cell_type": "code",
   "execution_count": 82,
   "id": "b3eee203-4fce-40fa-afcf-a0bcf03530e2",
   "metadata": {},
   "outputs": [
    {
     "data": {
      "text/plain": [
       "(144.0243035046516, 74.0)"
      ]
     },
     "execution_count": 82,
     "metadata": {},
     "output_type": "execute_result"
    }
   ],
   "source": [
    "c = a ** 2\n",
    "c_std = c.std()\n",
    "c_mean = c.mean()\n",
    "c_std, c_mean"
   ]
  },
  {
   "cell_type": "markdown",
   "id": "f1cb0c62-fdcc-4f3f-a883-473b305d8e8b",
   "metadata": {},
   "source": [
    "A common statistical operation on a dataset is centering. \n",
    "\n",
    "This means to adjust the data such that the mean of the data is 0.\n",
    "\n",
    "This is done by subtracting the mean from each data point. Center the data set. See this link for more on centering."
   ]
  },
  {
   "cell_type": "code",
   "execution_count": 95,
   "id": "0faf729c-4ac9-4196-bc3b-21b1fc72e363",
   "metadata": {},
   "outputs": [
    {
     "data": {
      "text/plain": [
       "0.0"
      ]
     },
     "execution_count": 95,
     "metadata": {},
     "output_type": "execute_result"
    }
   ],
   "source": [
    "a_mean = int(a.mean())\n",
    "d = a - a_mean\n",
    "d.mean()"
   ]
  },
  {
   "cell_type": "markdown",
   "id": "f19b5e3a-dfc5-48c4-b166-2fc154c23bd2",
   "metadata": {},
   "source": [
    "Calculate the z-score for each data point. Recall that the z-score is given by:\n",
    "\n",
    "Z = (x - μ) / σ"
   ]
  },
  {
   "cell_type": "code",
   "execution_count": 100,
   "id": "c35414eb-ac21-4515-9a48-29314bf9e640",
   "metadata": {},
   "outputs": [
    {
     "data": {
      "text/plain": [
       "array([ 0.12403473,  0.86824314,  1.11631261,  2.48069469, -0.62017367,\n",
       "       -0.49613894, -0.3721042 , -0.3721042 , -0.3721042 , -1.11631261,\n",
       "        0.        , -1.24034735])"
      ]
     },
     "execution_count": 100,
     "metadata": {},
     "output_type": "execute_result"
    }
   ],
   "source": [
    "z = (a - a_mean) / a_std\n",
    "z"
   ]
  },
  {
   "cell_type": "markdown",
   "id": "732be10b-81f2-44f3-b9dd-bb0bbe4c28c7",
   "metadata": {},
   "source": [
    "\n",
    "\n"
   ]
  },
  {
   "cell_type": "markdown",
   "id": "535f8026-7ef6-4db1-b30e-27701f2ebc32",
   "metadata": {},
   "source": [
    "# Setup 1"
   ]
  },
  {
   "cell_type": "markdown",
   "id": "08e96a32-86bc-4a99-baba-256b9f53d3e5",
   "metadata": {},
   "source": [
    "Use python's built in functionality/operators to determine the following:\n",
    "\n",
    "Exercise 1 - Make a variable called sum_of_a to hold the sum of all the numbers in above list\n",
    "\n",
    "a = [1, 2, 3, 4, 5, 6, 7, 8, 9, 10]"
   ]
  },
  {
   "cell_type": "code",
   "execution_count": 258,
   "id": "74f35a36-5e8c-4b23-986c-87644a3b8908",
   "metadata": {},
   "outputs": [
    {
     "data": {
      "text/plain": [
       "55"
      ]
     },
     "execution_count": 258,
     "metadata": {},
     "output_type": "execute_result"
    }
   ],
   "source": [
    "a_sum = sum(a)\n",
    "a_sum"
   ]
  },
  {
   "cell_type": "code",
   "execution_count": 306,
   "id": "0e995afe-758e-460b-93a1-fc8d994519d1",
   "metadata": {},
   "outputs": [
    {
     "data": {
      "text/plain": [
       "55"
      ]
     },
     "execution_count": 306,
     "metadata": {},
     "output_type": "execute_result"
    }
   ],
   "source": [
    "a =  np.array([1, 2, 3, 4, 5, 6, 7, 8, 9, 10])\n",
    "sum_of_a = a.sum() \n",
    "sum_of_a"
   ]
  },
  {
   "cell_type": "markdown",
   "id": "737bc141-61ef-4c16-b463-c41fca47597b",
   "metadata": {},
   "source": [
    " Exercise 2 - Make a variable named min_of_a to hold the minimum of all the numbers in the above list"
   ]
  },
  {
   "cell_type": "code",
   "execution_count": 254,
   "id": "81549b63-0a72-439b-8883-eb46d08b23f2",
   "metadata": {},
   "outputs": [
    {
     "data": {
      "text/plain": [
       "1"
      ]
     },
     "execution_count": 254,
     "metadata": {},
     "output_type": "execute_result"
    }
   ],
   "source": [
    "min(a)"
   ]
  },
  {
   "cell_type": "code",
   "execution_count": 112,
   "id": "60ed68fd-3224-4b8c-9b8a-cbebcf12090a",
   "metadata": {},
   "outputs": [
    {
     "data": {
      "text/plain": [
       "1"
      ]
     },
     "execution_count": 112,
     "metadata": {},
     "output_type": "execute_result"
    }
   ],
   "source": [
    "min_of_a = a.min()\n",
    "min_of_a"
   ]
  },
  {
   "cell_type": "markdown",
   "id": "f7eb96a1-bbaa-42dc-9be5-0b65abe07e61",
   "metadata": {},
   "source": [
    " Exercise 3 - Make a variable named max_of_a to hold the max number of all the numbers in the above list"
   ]
  },
  {
   "cell_type": "code",
   "execution_count": 255,
   "id": "018879ce-e5d2-460e-9251-5dcc8b120970",
   "metadata": {},
   "outputs": [
    {
     "data": {
      "text/plain": [
       "10"
      ]
     },
     "execution_count": 255,
     "metadata": {},
     "output_type": "execute_result"
    }
   ],
   "source": [
    "max(a)"
   ]
  },
  {
   "cell_type": "code",
   "execution_count": 114,
   "id": "dfb5a1ef-106a-443f-8642-07a3c57ba1f7",
   "metadata": {},
   "outputs": [
    {
     "data": {
      "text/plain": [
       "10"
      ]
     },
     "execution_count": 114,
     "metadata": {},
     "output_type": "execute_result"
    }
   ],
   "source": [
    "max_of_a = a.max()\n",
    "max_of_a"
   ]
  },
  {
   "cell_type": "markdown",
   "id": "f19a83d3-dfbb-41a2-8e7f-b4e1ecfcbe5f",
   "metadata": {},
   "source": [
    " Make a variable named mean_of_a to hold the average of all the numbers in the above list"
   ]
  },
  {
   "cell_type": "code",
   "execution_count": 261,
   "id": "09d126a9-a967-43b9-bd33-9798bafa78d7",
   "metadata": {},
   "outputs": [
    {
     "data": {
      "text/plain": [
       "5.5"
      ]
     },
     "execution_count": 261,
     "metadata": {},
     "output_type": "execute_result"
    }
   ],
   "source": [
    "a_mean = a_sum / len(a)\n",
    "a_mean"
   ]
  },
  {
   "cell_type": "code",
   "execution_count": 120,
   "id": "983cd0e7-7104-4ec4-a3a4-d3262e716c7f",
   "metadata": {},
   "outputs": [
    {
     "data": {
      "text/plain": [
       "5.5"
      ]
     },
     "execution_count": 120,
     "metadata": {},
     "output_type": "execute_result"
    }
   ],
   "source": [
    "mean_of_a = a.mean()\n",
    "mean_of_a"
   ]
  },
  {
   "cell_type": "markdown",
   "id": "75f393ec-3829-4f02-a99e-ed72ede49b04",
   "metadata": {},
   "source": [
    "Make a variable named product_of_a to hold the product of multiplying all the numbers in the above list together"
   ]
  },
  {
   "cell_type": "code",
   "execution_count": 268,
   "id": "9aedb9f1-391d-4748-a8f7-191194526380",
   "metadata": {},
   "outputs": [
    {
     "data": {
      "text/plain": [
       "3628800"
      ]
     },
     "execution_count": 268,
     "metadata": {},
     "output_type": "execute_result"
    }
   ],
   "source": [
    "a[0]*a[1]*a[2]*a[3]*a[4]*a[5]*a[6]*a[7]*a[8]*a[9]"
   ]
  },
  {
   "cell_type": "code",
   "execution_count": 125,
   "id": "5e87bb86-5037-474b-8cbb-01c3093ccd54",
   "metadata": {},
   "outputs": [
    {
     "data": {
      "text/plain": [
       "3628800"
      ]
     },
     "execution_count": 125,
     "metadata": {},
     "output_type": "execute_result"
    }
   ],
   "source": [
    "product_of_a = a.prod()\n",
    "product_of_a"
   ]
  },
  {
   "cell_type": "markdown",
   "id": "b4bb7597-c05b-4c64-b96d-555e7f4a9e5e",
   "metadata": {},
   "source": [
    "Make a variable named squares_of_a. It should hold each number in a squared like [1, 4, 9, 16, 25...]"
   ]
  },
  {
   "cell_type": "code",
   "execution_count": 269,
   "id": "d471171c-94b8-447f-b8cc-dc3c74de5ef5",
   "metadata": {},
   "outputs": [
    {
     "data": {
      "text/plain": [
       "[1, 2, 3, 4, 5, 6, 7, 8, 9, 10]"
      ]
     },
     "execution_count": 269,
     "metadata": {},
     "output_type": "execute_result"
    }
   ],
   "source": [
    "a"
   ]
  },
  {
   "cell_type": "code",
   "execution_count": 272,
   "id": "3b348391-31f6-4eb5-9cb2-546cff4faaf3",
   "metadata": {},
   "outputs": [
    {
     "data": {
      "text/plain": [
       "(1, 4, 9, 16, 25, 36, 49, 64, 81, 100)"
      ]
     },
     "execution_count": 272,
     "metadata": {},
     "output_type": "execute_result"
    }
   ],
   "source": [
    "(a[0]**2), a[1]**2, a[2]**2, a[3]**2, a[4]**2, a[5]**2, a[6]**2, a[7]**2, a[8]**2, a[9]**2"
   ]
  },
  {
   "cell_type": "code",
   "execution_count": 129,
   "id": "1a40fc5a-3ac0-46ce-bf8c-0010cf83cacd",
   "metadata": {},
   "outputs": [
    {
     "data": {
      "text/plain": [
       "array([  1,   4,   9,  16,  25,  36,  49,  64,  81, 100])"
      ]
     },
     "execution_count": 129,
     "metadata": {},
     "output_type": "execute_result"
    }
   ],
   "source": [
    "squares_of_a = a**2\n",
    "squares_of_a"
   ]
  },
  {
   "cell_type": "markdown",
   "id": "59ddaa98-43a3-47d1-9c2c-1decef5add6f",
   "metadata": {},
   "source": [
    "Make a variable named odds_in_a. It should hold only the odd numbers"
   ]
  },
  {
   "cell_type": "code",
   "execution_count": 311,
   "id": "9315a383-d39b-4431-90a4-2726d7439da0",
   "metadata": {},
   "outputs": [
    {
     "name": "stdout",
     "output_type": "stream",
     "text": [
      "[1, 3, 5, 7, 9]\n"
     ]
    }
   ],
   "source": [
    "def find_odd(num):\n",
    "    a_odd = []\n",
    "    for number in num:\n",
    "        if number % 2 != 0:\n",
    "            a_odd.append(number)\n",
    "    return a_odd\n",
    "a_odd = find_odd(a)\n",
    "print(a_odd)"
   ]
  },
  {
   "cell_type": "code",
   "execution_count": 307,
   "id": "37bca7c9-de4d-4586-93fa-ab3ec790eeb7",
   "metadata": {},
   "outputs": [
    {
     "data": {
      "text/plain": [
       "array([1, 3, 5, 7, 9])"
      ]
     },
     "execution_count": 307,
     "metadata": {},
     "output_type": "execute_result"
    }
   ],
   "source": [
    "odds_in_a = a[a % 2 != 0]\n",
    "odds_in_a"
   ]
  },
  {
   "cell_type": "markdown",
   "id": "56d58da9-ed74-4f16-a9d6-5abbbe5127d9",
   "metadata": {},
   "source": [
    "Make a variable named evens_in_a. It should hold only the evens."
   ]
  },
  {
   "cell_type": "code",
   "execution_count": 309,
   "id": "d21d2068-a6dc-4b45-ba6c-d2f61c290935",
   "metadata": {},
   "outputs": [
    {
     "name": "stdout",
     "output_type": "stream",
     "text": [
      "[2, 4, 6, 8, 10]\n"
     ]
    }
   ],
   "source": [
    "def find_even(num):\n",
    "    a_even = []\n",
    "    for number in num:\n",
    "        if number % 2 == 0:\n",
    "            a_even.append(number)\n",
    "    return a_even\n",
    "a_even = find_even(a)\n",
    "print(a_even)"
   ]
  },
  {
   "cell_type": "code",
   "execution_count": 133,
   "id": "7583d677-16ae-4b44-a332-a6d601ba23c7",
   "metadata": {},
   "outputs": [
    {
     "data": {
      "text/plain": [
       "array([ 2,  4,  6,  8, 10])"
      ]
     },
     "execution_count": 133,
     "metadata": {},
     "output_type": "execute_result"
    }
   ],
   "source": [
    "evens_in_a = a[a % 2 == 0]\n",
    "evens_in_a"
   ]
  },
  {
   "cell_type": "markdown",
   "id": "41e998e4-eef6-403b-96c2-1e17a5de52e0",
   "metadata": {},
   "source": [
    "# Setup 2: "
   ]
  },
  {
   "cell_type": "markdown",
   "id": "60f45ea8-9003-45e3-ba4e-ebd1e9c9b63c",
   "metadata": {},
   "source": [
    "#What about life in two dimensions? A list of lists is matrix, a table, a spreadsheet, a chessboard...\n",
    "\n",
    "Consider what it would take to find the sum, min, max, average, sum, product, and list of squares for this list of two lists.\n",
    "\n",
    "b = [\n",
    "    [3, 4, 5],\n",
    "    \n",
    "    [6, 7, 8]\n",
    "]"
   ]
  },
  {
   "cell_type": "markdown",
   "id": "065ac012-1ccc-4b38-a98f-c2a2cd0dbdff",
   "metadata": {},
   "source": [
    " Exercise 1 - refactor the following to use numpy. Use sum_of_b as the variable. **Hint, you'll first need to make sure that the \"b\" variable is a numpy array**\n",
    " \n",
    "sum_of_b = 0\n",
    "\n",
    "for row in b:\n",
    "\n",
    "    sum_of_b += sum(row)"
   ]
  },
  {
   "cell_type": "code",
   "execution_count": 168,
   "id": "c584ec4e-f382-471f-b539-2b138af34fa7",
   "metadata": {},
   "outputs": [
    {
     "data": {
      "text/plain": [
       "33"
      ]
     },
     "execution_count": 168,
     "metadata": {},
     "output_type": "execute_result"
    }
   ],
   "source": [
    "b = np.array([\n",
    "    [3, 4, 5],\n",
    "    [6, 7, 8]\n",
    "])\n",
    "sum_of_b = b.sum()\n",
    "sum_of_b"
   ]
  },
  {
   "cell_type": "markdown",
   "id": "672d27c6-ced8-49ca-9f3c-9110d8ecb5e2",
   "metadata": {},
   "source": [
    "Exercise 2 - refactor the following to use numpy. \n",
    "\n",
    "min_of_b = min(b[0])\n",
    "\n",
    "if min(b[0]) <= min(b[1]) \n",
    "\n",
    "else min(b[1])"
   ]
  },
  {
   "cell_type": "code",
   "execution_count": 169,
   "id": "06d2d267-d363-42c9-afc1-d9413d3157a5",
   "metadata": {},
   "outputs": [
    {
     "data": {
      "text/plain": [
       "3"
      ]
     },
     "execution_count": 169,
     "metadata": {},
     "output_type": "execute_result"
    }
   ],
   "source": [
    "min_of_b = b.min()\n",
    "min_of_b"
   ]
  },
  {
   "cell_type": "markdown",
   "id": "4c739a34-fae9-484a-abe7-232e50780264",
   "metadata": {},
   "source": [
    "Exercise 3 - refactor the following maximum calculation to find the answer with numpy.\n",
    "\n",
    "max_of_b = max(b[0])\n",
    "\n",
    "if max(b[0]) >= max(b[1])\n",
    "\n",
    "else max(b[1])"
   ]
  },
  {
   "cell_type": "code",
   "execution_count": 158,
   "id": "ba1149c6-e42a-4c86-91cd-ad0064031383",
   "metadata": {},
   "outputs": [
    {
     "data": {
      "text/plain": [
       "8"
      ]
     },
     "execution_count": 158,
     "metadata": {},
     "output_type": "execute_result"
    }
   ],
   "source": [
    "max_of_b = b.max()\n",
    "max_of_b"
   ]
  },
  {
   "cell_type": "markdown",
   "id": "0bcac7ce-9f68-4c3d-8dbf-ec6d98396c81",
   "metadata": {},
   "source": [
    "Exercise 4 - refactor the following using numpy to find the mean of b\n",
    "\n",
    "mean_of_b = \n",
    "\n",
    "(sum(b[0]) + sum(b[1])) / (len(b[0]) + len(b[1]))"
   ]
  },
  {
   "cell_type": "code",
   "execution_count": 161,
   "id": "14213465-d06a-43db-9acf-4b2e2708f62a",
   "metadata": {},
   "outputs": [
    {
     "data": {
      "text/plain": [
       "5.5"
      ]
     },
     "execution_count": 161,
     "metadata": {},
     "output_type": "execute_result"
    }
   ],
   "source": [
    "mean_of_b = b.mean()\n",
    "mean_of_b"
   ]
  },
  {
   "cell_type": "markdown",
   "id": "6ffb9781-202d-445a-9a43-37c09b77f5f6",
   "metadata": {},
   "source": [
    " Exercise 5 - refactor the following to use numpy for calculating the product of all numbers multiplied together.\n",
    " \n",
    "product_of_b = 1\n",
    "for row in b:\n",
    "    for number in row:\n",
    "        product_of_b *= number\n",
    "product_of_b"
   ]
  },
  {
   "cell_type": "code",
   "execution_count": 164,
   "id": "0cac75da-2d45-4669-8aaa-b1babf22a367",
   "metadata": {},
   "outputs": [
    {
     "data": {
      "text/plain": [
       "20160"
      ]
     },
     "execution_count": 164,
     "metadata": {},
     "output_type": "execute_result"
    }
   ],
   "source": [
    "product_of_b = b.prod()\n",
    "product_of_b"
   ]
  },
  {
   "cell_type": "markdown",
   "id": "41ffa08b-20fb-4ac2-ab77-30f5aa99d3ae",
   "metadata": {},
   "source": [
    " Exercise 6 - refactor the following to use numpy to find the list of squares \n",
    " \n",
    "squares_of_b = []\n",
    "\n",
    "for row in b:\n",
    "\n",
    "    for number in row:\n",
    "    \n",
    "        squares_of_b.append(number**2)\n",
    "        \n",
    "squares_of_b"
   ]
  },
  {
   "cell_type": "code",
   "execution_count": 167,
   "id": "c849c313-32db-4f00-9a66-fdd782658b25",
   "metadata": {},
   "outputs": [
    {
     "data": {
      "text/plain": [
       "array([[ 9, 16, 25],\n",
       "       [36, 49, 64]])"
      ]
     },
     "execution_count": 167,
     "metadata": {},
     "output_type": "execute_result"
    }
   ],
   "source": [
    "squares_of_b = b**2\n",
    "squares_of_b"
   ]
  },
  {
   "cell_type": "markdown",
   "id": "7b337f81-6dd2-4d79-aca0-7ff9fe73ae0d",
   "metadata": {},
   "source": [
    "Exercise 7 - refactor using numpy to determine the odds_in_b\n",
    "\n",
    "odds_in_b = []\n",
    "\n",
    "for row in b:\n",
    "    \n",
    "    for number in row:\n",
    "        \n",
    "        if(number % 2 != 0):\n",
    "            \n",
    "            odds_in_b.append(number)"
   ]
  },
  {
   "cell_type": "code",
   "execution_count": 171,
   "id": "e662acf3-eb98-4828-9728-84b95c7345e4",
   "metadata": {},
   "outputs": [
    {
     "data": {
      "text/plain": [
       "array([3, 5, 7])"
      ]
     },
     "execution_count": 171,
     "metadata": {},
     "output_type": "execute_result"
    }
   ],
   "source": [
    "odds_in_b = b[b % 2 != 0]\n",
    "odds_in_b"
   ]
  },
  {
   "cell_type": "markdown",
   "id": "b02c96f8-22a7-4e73-a0fe-7320911656a2",
   "metadata": {},
   "source": [
    "Exercise 8 - refactor the following to use numpy to filter only the even numbers\n",
    "\n",
    "evens_in_b = []\n",
    "\n",
    "for row in b:\n",
    "\n",
    "    for number in row:\n",
    "    \n",
    "        if(number % 2 == 0):\n",
    "        \n",
    "            evens_in_b.append(number)\n",
    "            \n",
    "evens_in_b"
   ]
  },
  {
   "cell_type": "code",
   "execution_count": 174,
   "id": "23e9f9cf-1e4a-4e14-860c-a45bd720f866",
   "metadata": {},
   "outputs": [
    {
     "data": {
      "text/plain": [
       "array([4, 6, 8])"
      ]
     },
     "execution_count": 174,
     "metadata": {},
     "output_type": "execute_result"
    }
   ],
   "source": [
    "evens_in_b = b[b % 2 == 0]\n",
    "evens_in_b"
   ]
  },
  {
   "cell_type": "markdown",
   "id": "c6a89f54-c18c-41fb-93a7-a02cf7207135",
   "metadata": {},
   "source": [
    "Exercise 9 - print out the shape of the array b."
   ]
  },
  {
   "cell_type": "code",
   "execution_count": 175,
   "id": "50a41280-6a4d-4da4-a57b-b3657438344d",
   "metadata": {},
   "outputs": [
    {
     "data": {
      "text/plain": [
       "array([[3, 4, 5],\n",
       "       [6, 7, 8]])"
      ]
     },
     "execution_count": 175,
     "metadata": {},
     "output_type": "execute_result"
    }
   ],
   "source": [
    "b"
   ]
  },
  {
   "cell_type": "markdown",
   "id": "c9fe88d3-af22-4e1a-bfd5-2842383ff171",
   "metadata": {},
   "source": [
    "Exercise 10 - transpose the array b."
   ]
  },
  {
   "cell_type": "code",
   "execution_count": 196,
   "id": "06cd16c2-1328-43cc-8341-e97b3c80d871",
   "metadata": {},
   "outputs": [
    {
     "data": {
      "text/plain": [
       "array([[3, 6],\n",
       "       [4, 7],\n",
       "       [5, 8]])"
      ]
     },
     "execution_count": 196,
     "metadata": {},
     "output_type": "execute_result"
    }
   ],
   "source": [
    "b_trans = b.transpose()\n",
    "b_trans"
   ]
  },
  {
   "cell_type": "markdown",
   "id": "95119ffd-c0f5-4e7d-a3ca-be71d11791e3",
   "metadata": {},
   "source": [
    "Exercise 11 - reshape the array b to be a single list of 6 numbers. (1 x 6)"
   ]
  },
  {
   "cell_type": "code",
   "execution_count": 182,
   "id": "782f5904-3814-4e7b-ad42-4d8f7ff8e5a4",
   "metadata": {},
   "outputs": [
    {
     "data": {
      "text/plain": [
       "array([3, 4, 5, 6, 7, 8])"
      ]
     },
     "execution_count": 182,
     "metadata": {},
     "output_type": "execute_result"
    }
   ],
   "source": [
    "sin_lst = b.ravel()\n",
    "sin_lst"
   ]
  },
  {
   "cell_type": "markdown",
   "id": "a9e43152-ee98-4636-9f0d-76d8cc9bfd0f",
   "metadata": {},
   "source": [
    "Exercise 12 - reshape the array b to be a list of 6 lists, each containing only 1 number (6 x 1)"
   ]
  },
  {
   "cell_type": "code",
   "execution_count": 184,
   "id": "f1a6e847-e4ed-4b90-ab09-d49d179b501b",
   "metadata": {},
   "outputs": [
    {
     "data": {
      "text/plain": [
       "array([[3],\n",
       "       [4],\n",
       "       [5],\n",
       "       [6],\n",
       "       [7],\n",
       "       [8]])"
      ]
     },
     "execution_count": 184,
     "metadata": {},
     "output_type": "execute_result"
    }
   ],
   "source": [
    "six_lst = np.reshape(b, (6, -1))\n",
    "six_lst"
   ]
  },
  {
   "cell_type": "markdown",
   "id": "91696174-5aba-4d3a-95f2-60efd193c0e0",
   "metadata": {},
   "source": [
    "# Setup 3"
   ]
  },
  {
   "cell_type": "markdown",
   "id": "ae3af0d9-2609-4cfc-bf8e-3cc62ef12af2",
   "metadata": {},
   "source": [
    "c = [\n",
    "    \n",
    "    [1, 2, 3],\n",
    "    \n",
    "    [4, 5, 6],\n",
    "    \n",
    "    [7, 8, 9]\n",
    "    \n",
    "]\n",
    "\n",
    "HINT, you'll first need to make sure that the \"c\" variable is a numpy array prior to using numpy array methods."
   ]
  },
  {
   "cell_type": "code",
   "execution_count": 187,
   "id": "b5ad476b-4e57-4038-b714-835f9b2aeecf",
   "metadata": {},
   "outputs": [
    {
     "data": {
      "text/plain": [
       "array([[1, 2, 3],\n",
       "       [4, 5, 6],\n",
       "       [7, 8, 9]])"
      ]
     },
     "execution_count": 187,
     "metadata": {},
     "output_type": "execute_result"
    }
   ],
   "source": [
    "c = np.array([\n",
    "    [1, 2, 3],\n",
    "    [4, 5, 6],\n",
    "    [7, 8, 9]\n",
    "])\n",
    "c"
   ]
  },
  {
   "cell_type": "markdown",
   "id": "a726f2a0-917d-466c-82a3-cb92b255a63a",
   "metadata": {
    "tags": []
   },
   "source": [
    "Exercise 1 - Find the min, max, sum, and product of c."
   ]
  },
  {
   "cell_type": "code",
   "execution_count": 191,
   "id": "ec04572b-3ade-4a13-953b-480cdfca7347",
   "metadata": {},
   "outputs": [
    {
     "data": {
      "text/plain": [
       "(1, 9, 45, 362880)"
      ]
     },
     "execution_count": 191,
     "metadata": {},
     "output_type": "execute_result"
    }
   ],
   "source": [
    "c_min = c.min()\n",
    "c_max = c.max()\n",
    "c_sum = c.sum()\n",
    "c_prod = c.prod()\n",
    "c_min, c_max, c_sum, c_prod"
   ]
  },
  {
   "cell_type": "markdown",
   "id": "9a3b97d6-9508-43a3-bce5-bf63966b52d8",
   "metadata": {},
   "source": [
    "Exercise 2 - Determine the standard deviation of c."
   ]
  },
  {
   "cell_type": "code",
   "execution_count": 192,
   "id": "957012f4-ea42-4743-b885-675daaceab1a",
   "metadata": {},
   "outputs": [
    {
     "data": {
      "text/plain": [
       "2.581988897471611"
      ]
     },
     "execution_count": 192,
     "metadata": {},
     "output_type": "execute_result"
    }
   ],
   "source": [
    "c_std = c.std()\n",
    "c_std"
   ]
  },
  {
   "cell_type": "markdown",
   "id": "f3462a6d-7435-4a2f-98b6-46f1da7aeeb0",
   "metadata": {},
   "source": [
    "Exercise 3 - Determine the variance of c."
   ]
  },
  {
   "cell_type": "code",
   "execution_count": 194,
   "id": "f89e0427-c27a-4e14-bf94-d7a463ca9ab2",
   "metadata": {},
   "outputs": [
    {
     "data": {
      "text/plain": [
       "6.666666666666667"
      ]
     },
     "execution_count": 194,
     "metadata": {},
     "output_type": "execute_result"
    }
   ],
   "source": [
    "c_var = c.var()\n",
    "c_var"
   ]
  },
  {
   "cell_type": "markdown",
   "id": "3f3e560d-0aaf-4dff-8b9d-ce77f93d0275",
   "metadata": {},
   "source": [
    "Print out the shape of the array c"
   ]
  },
  {
   "cell_type": "code",
   "execution_count": 198,
   "id": "b71d16cd-f556-4f1a-93ec-c75f0dcb0775",
   "metadata": {},
   "outputs": [
    {
     "data": {
      "text/plain": [
       "array([[1, 2, 3],\n",
       "       [4, 5, 6],\n",
       "       [7, 8, 9]])"
      ]
     },
     "execution_count": 198,
     "metadata": {},
     "output_type": "execute_result"
    }
   ],
   "source": [
    "c"
   ]
  },
  {
   "cell_type": "markdown",
   "id": "cdbcd3e0-258d-4b55-9f8e-a2045ec29831",
   "metadata": {},
   "source": [
    "Exercise 5 - Transpose c and print out transposed result."
   ]
  },
  {
   "cell_type": "code",
   "execution_count": 200,
   "id": "70b80d8a-e542-4b3c-9cc4-6bfdee5a7f42",
   "metadata": {},
   "outputs": [
    {
     "data": {
      "text/plain": [
       "array([[1, 4, 7],\n",
       "       [2, 5, 8],\n",
       "       [3, 6, 9]])"
      ]
     },
     "execution_count": 200,
     "metadata": {},
     "output_type": "execute_result"
    }
   ],
   "source": [
    "c_trans = c.transpose()\n",
    "c_trans"
   ]
  },
  {
   "cell_type": "markdown",
   "id": "1ba28e19-7906-429d-a51f-82dc386cbc03",
   "metadata": {},
   "source": [
    "Exercise 6 - Get the dot product of the array c with c. "
   ]
  },
  {
   "cell_type": "code",
   "execution_count": 202,
   "id": "8d3ada28-708d-443a-b624-108cb78e5017",
   "metadata": {},
   "outputs": [
    {
     "data": {
      "text/plain": [
       "array([[ 30,  36,  42],\n",
       "       [ 66,  81,  96],\n",
       "       [102, 126, 150]])"
      ]
     },
     "execution_count": 202,
     "metadata": {},
     "output_type": "execute_result"
    }
   ],
   "source": [
    "c_dot_prod = np.dot(c, c)\n",
    "c_dot_prod"
   ]
  },
  {
   "cell_type": "markdown",
   "id": "503259cd-56f2-48d0-85d1-919cc424b7f2",
   "metadata": {},
   "source": [
    "Exercise 7 - Write the code necessary to sum up the result of c times c transposed. Answer should be 261"
   ]
  },
  {
   "cell_type": "code",
   "execution_count": 206,
   "id": "04b27b8f-a2ba-46ad-a622-b166783a018a",
   "metadata": {},
   "outputs": [
    {
     "data": {
      "text/plain": [
       "261"
      ]
     },
     "execution_count": 206,
     "metadata": {},
     "output_type": "execute_result"
    }
   ],
   "source": [
    "c_x_c = c * c_trans\n",
    "cxc_sum = c_x_c.sum()\n",
    "cxc_sum"
   ]
  },
  {
   "cell_type": "markdown",
   "id": "07384483-0550-4170-80e0-6c0ecbe72938",
   "metadata": {},
   "source": [
    " Exercise 8 - Write the code necessary to determine the product of c times c transposed. Answer should be 131681894400."
   ]
  },
  {
   "cell_type": "code",
   "execution_count": 208,
   "id": "15877a33-c765-44a7-80fc-73bb70cd4b03",
   "metadata": {},
   "outputs": [
    {
     "data": {
      "text/plain": [
       "131681894400"
      ]
     },
     "execution_count": 208,
     "metadata": {},
     "output_type": "execute_result"
    }
   ],
   "source": [
    "cxc_prod = c_x_c.prod()\n",
    "cxc_prod"
   ]
  },
  {
   "cell_type": "markdown",
   "id": "67587836-7d07-439b-8ce1-7639d3e72024",
   "metadata": {},
   "source": [
    "# Setup 4"
   ]
  },
  {
   "cell_type": "markdown",
   "id": "0a348f9a-56cf-4fd3-96a1-7b1b80de1790",
   "metadata": {},
   "source": [
    "d = [\n",
    "    \n",
    "    [90, 30, 45, 0, 120, 180],\n",
    "    \n",
    "    [45, -90, -30, 270, 90, 0],\n",
    "    \n",
    "    [60, 45, -45, 90, -45, 180]"
   ]
  },
  {
   "cell_type": "code",
   "execution_count": 209,
   "id": "31cfbacb-d217-4adf-89ec-70c58d111744",
   "metadata": {},
   "outputs": [
    {
     "data": {
      "text/plain": [
       "array([[ 90,  30,  45,   0, 120, 180],\n",
       "       [ 45, -90, -30, 270,  90,   0],\n",
       "       [ 60,  45, -45,  90, -45, 180]])"
      ]
     },
     "execution_count": 209,
     "metadata": {},
     "output_type": "execute_result"
    }
   ],
   "source": [
    "d = np.array([\n",
    "    [90, 30, 45, 0, 120, 180],\n",
    "    [45, -90, -30, 270, 90, 0],\n",
    "    [60, 45, -45, 90, -45, 180]\n",
    "])\n",
    "d"
   ]
  },
  {
   "cell_type": "markdown",
   "id": "080d855d-99d6-454b-b686-7badb3352ebd",
   "metadata": {},
   "source": [
    "Exercise 1 - Find the sine of all the numbers in d"
   ]
  },
  {
   "cell_type": "code",
   "execution_count": 214,
   "id": "ece35c7d-e38a-4a52-886a-845642b334fc",
   "metadata": {},
   "outputs": [
    {
     "data": {
      "text/plain": [
       "array([[ 0.89399666, -0.98803162,  0.85090352,  0.        ,  0.58061118,\n",
       "        -0.80115264],\n",
       "       [ 0.85090352, -0.89399666,  0.98803162, -0.17604595,  0.89399666,\n",
       "         0.        ],\n",
       "       [-0.30481062,  0.85090352, -0.85090352,  0.89399666, -0.85090352,\n",
       "        -0.80115264]])"
      ]
     },
     "execution_count": 214,
     "metadata": {},
     "output_type": "execute_result"
    }
   ],
   "source": [
    "d_sin = np.sin(d)\n",
    "d_sin"
   ]
  },
  {
   "cell_type": "markdown",
   "id": "a75603af-e5b9-41e7-aef3-67972a0d1fa0",
   "metadata": {},
   "source": [
    "Exercise 3 - Find the tangent of all the numbers in dFind the tangent of all the numbers in d"
   ]
  },
  {
   "cell_type": "code",
   "execution_count": 216,
   "id": "0e59f43e-55e7-4465-a1d6-0cc1199c3948",
   "metadata": {},
   "outputs": [
    {
     "data": {
      "text/plain": [
       "array([[-1.99520041, -6.4053312 ,  1.61977519,  0.        ,  0.71312301,\n",
       "         1.33869021],\n",
       "       [ 1.61977519,  1.99520041,  6.4053312 , -0.17883906, -1.99520041,\n",
       "         0.        ],\n",
       "       [ 0.32004039,  1.61977519, -1.61977519, -1.99520041, -1.61977519,\n",
       "         1.33869021]])"
      ]
     },
     "execution_count": 216,
     "metadata": {},
     "output_type": "execute_result"
    }
   ],
   "source": [
    "d_tan = np.tan(d)\n",
    "d_tan"
   ]
  },
  {
   "cell_type": "markdown",
   "id": "35789d2b-5655-49d0-8d12-d006cc9b0cc9",
   "metadata": {},
   "source": [
    "Exercise 4 - Find all the negative numbers in d"
   ]
  },
  {
   "cell_type": "code",
   "execution_count": 218,
   "id": "d3503093-adde-4508-af04-762deb79b2ef",
   "metadata": {},
   "outputs": [
    {
     "data": {
      "text/plain": [
       "array([-90, -30, -45, -45])"
      ]
     },
     "execution_count": 218,
     "metadata": {},
     "output_type": "execute_result"
    }
   ],
   "source": [
    "d_neg = d[d < 0]\n",
    "d_neg"
   ]
  },
  {
   "cell_type": "markdown",
   "id": "ebb16612-66a5-4ade-8588-b41381eb0d3e",
   "metadata": {},
   "source": [
    "Exercise 5 - Find all the positive numbers in d"
   ]
  },
  {
   "cell_type": "code",
   "execution_count": 219,
   "id": "88e42b75-8351-4677-9d6c-4e41edee7871",
   "metadata": {},
   "outputs": [
    {
     "data": {
      "text/plain": [
       "array([ 90,  30,  45, 120, 180,  45, 270,  90,  60,  45,  90, 180])"
      ]
     },
     "execution_count": 219,
     "metadata": {},
     "output_type": "execute_result"
    }
   ],
   "source": [
    "d_pos = d[d>0]\n",
    "d_pos"
   ]
  },
  {
   "cell_type": "markdown",
   "id": "34d1c599-d844-483a-894d-77e8b96b3a0c",
   "metadata": {},
   "source": [
    "Exercise 6 - Return an array of only the unique numbers in d."
   ]
  },
  {
   "cell_type": "code",
   "execution_count": 223,
   "id": "6d98f4fd-2ff1-473e-af3a-6e3c878c9996",
   "metadata": {},
   "outputs": [
    {
     "data": {
      "text/plain": [
       "array([-90, -45, -30,   0,  30,  45,  60,  90, 120, 180, 270])"
      ]
     },
     "execution_count": 223,
     "metadata": {},
     "output_type": "execute_result"
    }
   ],
   "source": [
    "d_uniq = np.unique(d)\n",
    "d_uniq"
   ]
  },
  {
   "cell_type": "markdown",
   "id": "6e1a462b-4c20-41d2-b1c5-7714a5c35781",
   "metadata": {},
   "source": [
    "Exercise 7 - Determine how many unique numbers there are in d."
   ]
  },
  {
   "cell_type": "code",
   "execution_count": 227,
   "id": "d8e4e0bd-5bee-43f8-8d5c-9e05b216f03c",
   "metadata": {},
   "outputs": [
    {
     "data": {
      "text/plain": [
       "11"
      ]
     },
     "execution_count": 227,
     "metadata": {},
     "output_type": "execute_result"
    }
   ],
   "source": [
    "d_len = len(d_uniq)\n",
    "d_len"
   ]
  },
  {
   "cell_type": "markdown",
   "id": "2bfc59cc-9766-41c9-9e43-5bb545da0f2c",
   "metadata": {},
   "source": [
    "Exercise 8 - Print out the shape of d."
   ]
  },
  {
   "cell_type": "code",
   "execution_count": 226,
   "id": "ce8eb67c-cfbd-494d-b339-cdb23acf93d5",
   "metadata": {},
   "outputs": [
    {
     "data": {
      "text/plain": [
       "array([[ 90,  30,  45,   0, 120, 180],\n",
       "       [ 45, -90, -30, 270,  90,   0],\n",
       "       [ 60,  45, -45,  90, -45, 180]])"
      ]
     },
     "execution_count": 226,
     "metadata": {},
     "output_type": "execute_result"
    }
   ],
   "source": [
    "d"
   ]
  },
  {
   "cell_type": "markdown",
   "id": "44dff88b-69a4-4f07-872a-ebca1fe23c2d",
   "metadata": {},
   "source": [
    "Exercise 9 - Transpose and then print out the shape of d."
   ]
  },
  {
   "cell_type": "code",
   "execution_count": 230,
   "id": "eeb1442c-d5d7-4bf1-9719-6675d77d3403",
   "metadata": {},
   "outputs": [
    {
     "data": {
      "text/plain": [
       "array([[ 90,  45,  60],\n",
       "       [ 30, -90,  45],\n",
       "       [ 45, -30, -45],\n",
       "       [  0, 270,  90],\n",
       "       [120,  90, -45],\n",
       "       [180,   0, 180]])"
      ]
     },
     "execution_count": 230,
     "metadata": {},
     "output_type": "execute_result"
    }
   ],
   "source": [
    "d_trans = d.transpose()\n",
    "d_trans"
   ]
  },
  {
   "cell_type": "markdown",
   "id": "060126a7-a28f-4915-b713-a5ea115dbb90",
   "metadata": {},
   "source": [
    "Exercise 10 - Reshape d into an array of 9 x 2"
   ]
  },
  {
   "cell_type": "code",
   "execution_count": 240,
   "id": "4d9c9f44-fae9-4654-bba2-c8d866f2fd9b",
   "metadata": {},
   "outputs": [
    {
     "data": {
      "text/plain": [
       "array([[ 90,  30],\n",
       "       [ 45,   0],\n",
       "       [120, 180],\n",
       "       [ 45, -90],\n",
       "       [-30, 270],\n",
       "       [ 90,   0],\n",
       "       [ 60,  45],\n",
       "       [-45,  90],\n",
       "       [-45, 180]])"
      ]
     },
     "execution_count": 240,
     "metadata": {},
     "output_type": "execute_result"
    }
   ],
   "source": [
    "d_rshp = np.reshape(d, (9, 2))\n",
    "d_rshp"
   ]
  }
 ],
 "metadata": {
  "kernelspec": {
   "display_name": "Python 3 (ipykernel)",
   "language": "python",
   "name": "python3"
  },
  "language_info": {
   "codemirror_mode": {
    "name": "ipython",
    "version": 3
   },
   "file_extension": ".py",
   "mimetype": "text/x-python",
   "name": "python",
   "nbconvert_exporter": "python",
   "pygments_lexer": "ipython3",
   "version": "3.10.9"
  }
 },
 "nbformat": 4,
 "nbformat_minor": 5
}
