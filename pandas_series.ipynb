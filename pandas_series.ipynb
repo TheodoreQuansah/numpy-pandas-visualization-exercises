{
 "cells": [
  {
   "cell_type": "markdown",
   "id": "719eb289-5040-47c9-9041-d3bbd0f4b015",
   "metadata": {},
   "source": [
    "# Exercises part 1\n",
    "\n",
    "Use pandas to create a Series named fruits from the following list:\n",
    "\n",
    "[\"kiwi\", \"mango\", \"strawberry\", \"pineapple\", \"gala apple\", \"honeycrisp apple\", \"tomato\", \"watermelon\", \"honeydew\", \"kiwi\", \"kiwi\", \"kiwi\", \"mango\", \"blueberry\", \"blackberry\", \"gooseberry\", \"papaya\"]\n",
    "\n",
    "Use Series attributes and methods to explore your fruits Series."
   ]
  },
  {
   "cell_type": "code",
   "execution_count": 8,
   "id": "e5fda8eb-d4aa-462c-a401-b3fd976f10e0",
   "metadata": {},
   "outputs": [],
   "source": [
    "import pandas as pd\n",
    "import numpy as np\n",
    "from pydataset import data"
   ]
  },
  {
   "cell_type": "code",
   "execution_count": 54,
   "id": "9737d5c5-2e7c-4fa2-819c-73dac9a67046",
   "metadata": {},
   "outputs": [
    {
     "data": {
      "text/plain": [
       "0                 kiwi\n",
       "1                mango\n",
       "2           strawberry\n",
       "3            pineapple\n",
       "4           gala apple\n",
       "5     honeycrisp apple\n",
       "6               tomato\n",
       "7           watermelon\n",
       "8             honeydew\n",
       "9                 kiwi\n",
       "10                kiwi\n",
       "11                kiwi\n",
       "12               mango\n",
       "13           blueberry\n",
       "14          blackberry\n",
       "15          gooseberry\n",
       "16              papaya\n",
       "dtype: object"
      ]
     },
     "execution_count": 54,
     "metadata": {},
     "output_type": "execute_result"
    }
   ],
   "source": [
    "fruits = [\"kiwi\", \"mango\", \"strawberry\", \"pineapple\", \"gala apple\", \"honeycrisp apple\", \"tomato\", \"watermelon\", \"honeydew\", \"kiwi\", \"kiwi\", \"kiwi\", \"mango\", \"blueberry\", \"blackberry\", \"gooseberry\", \"papaya\"]\n",
    "fruit_list = pd.Series(fruits)\n",
    "fruit_list"
   ]
  },
  {
   "cell_type": "markdown",
   "id": "720714ac-ba5b-4542-bb87-949b9ad5f737",
   "metadata": {},
   "source": [
    "1) Determine the number of elements in fruits."
   ]
  },
  {
   "cell_type": "code",
   "execution_count": 5,
   "id": "a308ee0d-2d3e-4fd6-af20-05536f95e9de",
   "metadata": {},
   "outputs": [
    {
     "data": {
      "text/plain": [
       "17"
      ]
     },
     "execution_count": 5,
     "metadata": {},
     "output_type": "execute_result"
    }
   ],
   "source": [
    "fruit_list.size"
   ]
  },
  {
   "cell_type": "markdown",
   "id": "704f59c9-8c4e-4b8d-acc7-561a50d12ea7",
   "metadata": {},
   "source": [
    "2) Output only the index from fruits."
   ]
  },
  {
   "cell_type": "code",
   "execution_count": 196,
   "id": "85134aeb-11bf-440b-9cc3-99435e7c9727",
   "metadata": {},
   "outputs": [
    {
     "data": {
      "text/plain": [
       "[0, 1, 2, 3, 4, 5, 6, 7, 8, 9, 10, 11, 12, 13, 14, 15, 16]"
      ]
     },
     "execution_count": 196,
     "metadata": {},
     "output_type": "execute_result"
    }
   ],
   "source": [
    "list(fruit_list.index)"
   ]
  },
  {
   "cell_type": "markdown",
   "id": "f39270e5-35e7-490b-8792-bb341de0e495",
   "metadata": {},
   "source": [
    "3) Output only the values from fruits."
   ]
  },
  {
   "cell_type": "code",
   "execution_count": 7,
   "id": "3e8ad942-4330-4354-ad24-ee644b28e3c0",
   "metadata": {},
   "outputs": [
    {
     "data": {
      "text/plain": [
       "array(['kiwi', 'mango', 'strawberry', 'pineapple', 'gala apple',\n",
       "       'honeycrisp apple', 'tomato', 'watermelon', 'honeydew', 'kiwi',\n",
       "       'kiwi', 'kiwi', 'mango', 'blueberry', 'blackberry', 'gooseberry',\n",
       "       'papaya'], dtype=object)"
      ]
     },
     "execution_count": 7,
     "metadata": {},
     "output_type": "execute_result"
    }
   ],
   "source": [
    "fruit_list.values"
   ]
  },
  {
   "cell_type": "markdown",
   "id": "c2940a82-6769-4308-8395-84d30f7fc077",
   "metadata": {},
   "source": [
    "4) Confirm the data type of the values in fruits."
   ]
  },
  {
   "cell_type": "code",
   "execution_count": 201,
   "id": "842844f4-f70f-43b5-bc9a-7a2c561c0fb7",
   "metadata": {},
   "outputs": [
    {
     "data": {
      "text/plain": [
       "dtype('O')"
      ]
     },
     "execution_count": 201,
     "metadata": {},
     "output_type": "execute_result"
    }
   ],
   "source": [
    "fruit_list.dtype"
   ]
  },
  {
   "cell_type": "markdown",
   "id": "307262fa-a3f6-4658-90e9-aea412f08b6e",
   "metadata": {},
   "source": [
    "5) Output only the first five values from fruits. Output the last three values. Output two random values from fruits."
   ]
  },
  {
   "cell_type": "code",
   "execution_count": 202,
   "id": "295f6e31-3c9c-489d-812d-0f58b378502b",
   "metadata": {},
   "outputs": [
    {
     "data": {
      "text/plain": [
       "0          kiwi\n",
       "1         mango\n",
       "2    strawberry\n",
       "3     pineapple\n",
       "4    gala apple\n",
       "dtype: object"
      ]
     },
     "execution_count": 202,
     "metadata": {},
     "output_type": "execute_result"
    }
   ],
   "source": [
    "fruit_list.head()"
   ]
  },
  {
   "cell_type": "code",
   "execution_count": 10,
   "id": "b6141b8a-d0db-447f-9c3b-d76733a84945",
   "metadata": {},
   "outputs": [
    {
     "data": {
      "text/plain": [
       "14    blackberry\n",
       "15    gooseberry\n",
       "16        papaya\n",
       "dtype: object"
      ]
     },
     "execution_count": 10,
     "metadata": {},
     "output_type": "execute_result"
    }
   ],
   "source": [
    " fruit_list.tail(3)"
   ]
  },
  {
   "cell_type": "code",
   "execution_count": 11,
   "id": "66fe04f0-a945-49af-927b-a629b8b333c2",
   "metadata": {},
   "outputs": [
    {
     "data": {
      "text/plain": [
       "11          kiwi\n",
       "15    gooseberry\n",
       "dtype: object"
      ]
     },
     "execution_count": 11,
     "metadata": {},
     "output_type": "execute_result"
    }
   ],
   "source": [
    "fruit_list.sample(2)"
   ]
  },
  {
   "cell_type": "markdown",
   "id": "52293e41-c968-4e55-a68c-042ef8bfddfd",
   "metadata": {},
   "source": [
    "6) Run the .describe() on fruits to see what information it returns when called on a Series with string values."
   ]
  },
  {
   "cell_type": "code",
   "execution_count": 12,
   "id": "b695f6ce-80a7-4f98-bc37-95e64e414332",
   "metadata": {},
   "outputs": [
    {
     "data": {
      "text/plain": [
       "count       17\n",
       "unique      13\n",
       "top       kiwi\n",
       "freq         4\n",
       "dtype: object"
      ]
     },
     "execution_count": 12,
     "metadata": {},
     "output_type": "execute_result"
    }
   ],
   "source": [
    "fruit_list.describe()"
   ]
  },
  {
   "cell_type": "markdown",
   "id": "c73d1c01-1752-4cbf-bb47-cd63c77dd191",
   "metadata": {},
   "source": [
    "7) Run the code necessary to produce only the unique string values from fruits."
   ]
  },
  {
   "cell_type": "code",
   "execution_count": 13,
   "id": "56edf723-6ea9-49a0-a844-bd858f55efea",
   "metadata": {},
   "outputs": [
    {
     "data": {
      "text/plain": [
       "array(['kiwi', 'mango', 'strawberry', 'pineapple', 'gala apple',\n",
       "       'honeycrisp apple', 'tomato', 'watermelon', 'honeydew',\n",
       "       'blueberry', 'blackberry', 'gooseberry', 'papaya'], dtype=object)"
      ]
     },
     "execution_count": 13,
     "metadata": {},
     "output_type": "execute_result"
    }
   ],
   "source": [
    "fruit_list.unique()"
   ]
  },
  {
   "cell_type": "markdown",
   "id": "f740bf83-694c-432f-87c9-e9e67c9d3e4d",
   "metadata": {},
   "source": [
    "8) Determine how many times each unique string value occurs in fruits."
   ]
  },
  {
   "cell_type": "code",
   "execution_count": 221,
   "id": "8ed617b9-99c1-402c-9e99-d21ba7e20c43",
   "metadata": {},
   "outputs": [
    {
     "data": {
      "text/plain": [
       "kiwi                4\n",
       "mango               2\n",
       "strawberry          1\n",
       "pineapple           1\n",
       "gala apple          1\n",
       "honeycrisp apple    1\n",
       "tomato              1\n",
       "watermelon          1\n",
       "honeydew            1\n",
       "blueberry           1\n",
       "blackberry          1\n",
       "gooseberry          1\n",
       "papaya              1\n",
       "dtype: int64"
      ]
     },
     "execution_count": 221,
     "metadata": {},
     "output_type": "execute_result"
    }
   ],
   "source": [
    "fruit_list.value_counts()"
   ]
  },
  {
   "cell_type": "markdown",
   "id": "6d7fa1c8-55b4-43ca-944f-2dd0f2cc2bfb",
   "metadata": {},
   "source": [
    "9) Determine the string value that occurs most frequently in fruits."
   ]
  },
  {
   "cell_type": "code",
   "execution_count": 213,
   "id": "d0604b00-6e1d-4ffe-a74e-d4d3f70015ea",
   "metadata": {},
   "outputs": [
    {
     "data": {
      "text/plain": [
       "kiwi    4\n",
       "dtype: int64"
      ]
     },
     "execution_count": 213,
     "metadata": {},
     "output_type": "execute_result"
    }
   ],
   "source": [
    "list_count = fruit_list.value_counts()\n",
    "list_count.head(1)"
   ]
  },
  {
   "cell_type": "markdown",
   "id": "35c0a18e-72d1-4372-9790-4601d3d095db",
   "metadata": {},
   "source": [
    "Determine the string value that occurs least frequently in fruits."
   ]
  },
  {
   "cell_type": "code",
   "execution_count": 219,
   "id": "58cd9561-419e-4016-8240-89c462161e12",
   "metadata": {},
   "outputs": [
    {
     "data": {
      "text/plain": [
       "strawberry          1\n",
       "pineapple           1\n",
       "gala apple          1\n",
       "honeycrisp apple    1\n",
       "tomato              1\n",
       "watermelon          1\n",
       "honeydew            1\n",
       "blueberry           1\n",
       "blackberry          1\n",
       "gooseberry          1\n",
       "papaya              1\n",
       "dtype: int64"
      ]
     },
     "execution_count": 219,
     "metadata": {},
     "output_type": "execute_result"
    }
   ],
   "source": [
    "list_count[list_count <= 1]"
   ]
  },
  {
   "cell_type": "markdown",
   "id": "6792fb56-042e-47be-b762-5d20dc9564e7",
   "metadata": {},
   "source": [
    "# Exercises Part II\n",
    "\n",
    "Explore more attributes and methods while you continue to work with the fruits Series."
   ]
  },
  {
   "cell_type": "markdown",
   "id": "05ba3367-f14f-48e5-b0d1-024a56f1174e",
   "metadata": {},
   "source": [
    "1) Capitalize all the string values in fruits."
   ]
  },
  {
   "cell_type": "code",
   "execution_count": 223,
   "id": "a8b344a1-97da-4af6-b43a-d45d2ac8c7fa",
   "metadata": {},
   "outputs": [
    {
     "data": {
      "text/plain": [
       "0                 KIWI\n",
       "1                MANGO\n",
       "2           STRAWBERRY\n",
       "3            PINEAPPLE\n",
       "4           GALA APPLE\n",
       "5     HONEYCRISP APPLE\n",
       "6               TOMATO\n",
       "7           WATERMELON\n",
       "8             HONEYDEW\n",
       "9                 KIWI\n",
       "10                KIWI\n",
       "11                KIWI\n",
       "12               MANGO\n",
       "13           BLUEBERRY\n",
       "14          BLACKBERRY\n",
       "15          GOOSEBERRY\n",
       "16              PAPAYA\n",
       "dtype: object"
      ]
     },
     "execution_count": 223,
     "metadata": {},
     "output_type": "execute_result"
    }
   ],
   "source": [
    "fruit_list.str.upper()"
   ]
  },
  {
   "cell_type": "markdown",
   "id": "38b91196-26f5-416e-a578-0675f2fbee5c",
   "metadata": {},
   "source": [
    "2) Count the letter \"a\" in all the string values (use string vectorization)."
   ]
  },
  {
   "cell_type": "code",
   "execution_count": 6,
   "id": "8c28984a-df9d-489b-bc40-5a1236e5a79d",
   "metadata": {},
   "outputs": [
    {
     "data": {
      "text/plain": [
       "0     0\n",
       "1     1\n",
       "2     1\n",
       "3     1\n",
       "4     3\n",
       "5     1\n",
       "6     1\n",
       "7     1\n",
       "8     0\n",
       "9     0\n",
       "10    0\n",
       "11    0\n",
       "12    1\n",
       "13    0\n",
       "14    1\n",
       "15    0\n",
       "16    3\n",
       "dtype: int64"
      ]
     },
     "execution_count": 6,
     "metadata": {},
     "output_type": "execute_result"
    }
   ],
   "source": [
    "a_counts = fruit_list.str.count('a')\n",
    "a_counts"
   ]
  },
  {
   "cell_type": "markdown",
   "id": "bed70d9b-0ed2-4e03-95a4-4aec785f405e",
   "metadata": {},
   "source": [
    "3) Output the number of vowels in each and every string value."
   ]
  },
  {
   "cell_type": "code",
   "execution_count": 268,
   "id": "9000d572-1a68-4ffa-845e-ae47a6b24e95",
   "metadata": {},
   "outputs": [
    {
     "data": {
      "text/plain": [
       "0     2\n",
       "1     2\n",
       "2     2\n",
       "3     4\n",
       "4     4\n",
       "5     5\n",
       "6     3\n",
       "7     4\n",
       "8     3\n",
       "9     2\n",
       "10    2\n",
       "11    2\n",
       "12    2\n",
       "13    3\n",
       "14    2\n",
       "15    4\n",
       "16    3\n",
       "dtype: int64"
      ]
     },
     "execution_count": 268,
     "metadata": {},
     "output_type": "execute_result"
    }
   ],
   "source": [
    "vowels = '[aeiou]'\n",
    "v_cnt = fruit_list.str.count(vowels)\n",
    "v_cnt"
   ]
  },
  {
   "cell_type": "markdown",
   "id": "7c723e81-27e0-4794-96d0-c1125b0955c7",
   "metadata": {},
   "source": [
    "4) Write the code to get the longest string value from fruits."
   ]
  },
  {
   "cell_type": "code",
   "execution_count": 260,
   "id": "02f9994e-a9dc-489f-b876-98de6b570993",
   "metadata": {},
   "outputs": [
    {
     "data": {
      "text/plain": [
       "'honeycrisp apple'"
      ]
     },
     "execution_count": 260,
     "metadata": {},
     "output_type": "execute_result"
    }
   ],
   "source": [
    "fruits_count = fruit_list.str.len().idxmax()\n",
    "fruit_list[fruits_count]"
   ]
  },
  {
   "cell_type": "code",
   "execution_count": 258,
   "id": "bbb961d6-cdbc-4567-9774-a7db52195b44",
   "metadata": {},
   "outputs": [
    {
     "data": {
      "text/plain": [
       "'honeycrisp apple'"
      ]
     },
     "execution_count": 258,
     "metadata": {},
     "output_type": "execute_result"
    }
   ],
   "source": [
    "max(fruit_list, key = len)"
   ]
  },
  {
   "cell_type": "markdown",
   "id": "c3ab12f0-bdda-4c98-b8d7-0fa097da75db",
   "metadata": {},
   "source": [
    "5) Write the code to get the string values with 5 or more letters in the name."
   ]
  },
  {
   "cell_type": "code",
   "execution_count": 8,
   "id": "d190706c-9afe-4df9-97cf-5f9bf3e33eee",
   "metadata": {},
   "outputs": [
    {
     "data": {
      "text/plain": [
       "1                mango\n",
       "2           strawberry\n",
       "3            pineapple\n",
       "4           gala apple\n",
       "5     honeycrisp apple\n",
       "6               tomato\n",
       "7           watermelon\n",
       "8             honeydew\n",
       "12               mango\n",
       "13           blueberry\n",
       "14          blackberry\n",
       "15          gooseberry\n",
       "16              papaya\n",
       "dtype: object"
      ]
     },
     "execution_count": 8,
     "metadata": {},
     "output_type": "execute_result"
    }
   ],
   "source": [
    "fruit_list[fruit_list.str.len() >= 5]"
   ]
  },
  {
   "cell_type": "markdown",
   "id": "c0c353a3-2d76-4336-8723-9b7a3605e3ff",
   "metadata": {},
   "source": [
    "6) Find the fruit(s) containing the letter \"o\" two or more times."
   ]
  },
  {
   "cell_type": "code",
   "execution_count": 262,
   "id": "1f7d2f22-8e15-40c0-8567-cdf5a4830061",
   "metadata": {},
   "outputs": [
    {
     "data": {
      "text/plain": [
       "6         tomato\n",
       "15    gooseberry\n",
       "dtype: object"
      ]
     },
     "execution_count": 262,
     "metadata": {},
     "output_type": "execute_result"
    }
   ],
   "source": [
    "o_counts = fruit_list.str.count('o') > 1\n",
    "fruit_list[o_counts]"
   ]
  },
  {
   "cell_type": "markdown",
   "id": "d61d061d-265c-460d-bf44-eb3be76e0672",
   "metadata": {},
   "source": [
    "7) Write the code to get only the string values containing the substring \"berry\"."
   ]
  },
  {
   "cell_type": "code",
   "execution_count": 20,
   "id": "924495d1-9005-4fdc-836a-15522c132e1e",
   "metadata": {},
   "outputs": [
    {
     "data": {
      "text/plain": [
       "2     strawberry\n",
       "13     blueberry\n",
       "14    blackberry\n",
       "15    gooseberry\n",
       "dtype: object"
      ]
     },
     "execution_count": 20,
     "metadata": {},
     "output_type": "execute_result"
    }
   ],
   "source": [
    "fruit_list[fruit_list.str.contains('berry')]"
   ]
  },
  {
   "cell_type": "markdown",
   "id": "fa0a74e0-50a7-4138-8dff-37070ea419de",
   "metadata": {},
   "source": [
    "8. Write the code to get only the string values containing the substring \"apple\"."
   ]
  },
  {
   "cell_type": "code",
   "execution_count": 21,
   "id": "3f38a1f6-c5ff-46f6-865e-1c6009f8284b",
   "metadata": {},
   "outputs": [
    {
     "data": {
      "text/plain": [
       "3           pineapple\n",
       "4          gala apple\n",
       "5    honeycrisp apple\n",
       "dtype: object"
      ]
     },
     "execution_count": 21,
     "metadata": {},
     "output_type": "execute_result"
    }
   ],
   "source": [
    "fruit_list[fruit_list.str.contains('apple')]"
   ]
  },
  {
   "cell_type": "markdown",
   "id": "94de637f-37dc-4f14-a13e-fa137300fc2d",
   "metadata": {},
   "source": [
    "9) Which string value contains the most vowels?"
   ]
  },
  {
   "cell_type": "code",
   "execution_count": 270,
   "id": "c1ab8293-4012-4a85-bc21-1b3862bae3a0",
   "metadata": {},
   "outputs": [
    {
     "data": {
      "text/plain": [
       "'honeycrisp apple'"
      ]
     },
     "execution_count": 270,
     "metadata": {},
     "output_type": "execute_result"
    }
   ],
   "source": [
    "v_cnt.max()\n",
    "fruits[v_cnt.max()]"
   ]
  },
  {
   "cell_type": "markdown",
   "id": "973499a6-0500-4d32-bf70-83c463d456b0",
   "metadata": {},
   "source": [
    "# Exercises Part III"
   ]
  },
  {
   "cell_type": "markdown",
   "id": "7f24c194-9170-4da3-851e-521275a15fac",
   "metadata": {},
   "source": [
    "Use pandas to create a Series named letters from the following string. The easiest way to make this string into a Pandas series is to use list to convert each individual letter into a single string on a basic Python list.\n",
    "\n",
    "'hnvidduckkqxwymbimkccexbkmqygkxoyndmcxnwqarhyffsjpsrabtjzsypmzadfavyrnndndvswreauxovncxtwzpwejilzjrmmbbgbyxvjtewqthafnbkqplarokkyydtubbmnexoypulzwfhqvckdpqtpoppzqrmcvhhpwgjwupgzhiofohawytlsiyecuproguy'"
   ]
  },
  {
   "cell_type": "code",
   "execution_count": 35,
   "id": "4950cdc8-11b7-4800-9bd7-23dd905e259b",
   "metadata": {},
   "outputs": [],
   "source": [
    "num = list('hnvidduckkqxwymbimkccexbkmqygkxoyndmcxnwqarhyffsjpsrabtjzsypmzadfavyrnndndvswreauxovncxtwzpwejilzjrmmbbgbyxvjtewqthafnbkqplarokkyydtubbmnexoypulzwfhqvckdpqtpoppzqrmcvhhpwgjwupgzhiofohawytlsiyecuproguy')"
   ]
  },
  {
   "cell_type": "code",
   "execution_count": 271,
   "id": "1865b6ca-ae29-4160-ab08-17b13de24b8e",
   "metadata": {},
   "outputs": [
    {
     "data": {
      "text/plain": [
       "0      h\n",
       "1      n\n",
       "2      v\n",
       "3      i\n",
       "4      d\n",
       "      ..\n",
       "195    r\n",
       "196    o\n",
       "197    g\n",
       "198    u\n",
       "199    y\n",
       "Length: 200, dtype: object"
      ]
     },
     "execution_count": 271,
     "metadata": {},
     "output_type": "execute_result"
    }
   ],
   "source": [
    "letters = pd.Series(num)\n",
    "letters"
   ]
  },
  {
   "cell_type": "markdown",
   "id": "7d882936-adda-4538-b16c-487b8c3d3a9b",
   "metadata": {},
   "source": [
    "1) Which letter occurs the most frequently in the letters Series?"
   ]
  },
  {
   "cell_type": "code",
   "execution_count": 278,
   "id": "4ee8cbe7-eb5d-434b-a215-22601804564a",
   "metadata": {},
   "outputs": [
    {
     "data": {
      "text/plain": [
       "y    13\n",
       "dtype: int64"
      ]
     },
     "execution_count": 278,
     "metadata": {},
     "output_type": "execute_result"
    }
   ],
   "source": [
    "letters.value_counts().head(1)"
   ]
  },
  {
   "cell_type": "markdown",
   "id": "ae6f8e8e-689c-44bb-9932-6e49a5d23ed7",
   "metadata": {},
   "source": [
    "2) Which letter occurs the Least frequently?"
   ]
  },
  {
   "cell_type": "code",
   "execution_count": 265,
   "id": "0b5b8a0c-4567-4d91-8d71-18c01ff07609",
   "metadata": {},
   "outputs": [
    {
     "data": {
      "text/plain": [
       "l    4\n",
       "dtype: int64"
      ]
     },
     "execution_count": 265,
     "metadata": {},
     "output_type": "execute_result"
    }
   ],
   "source": [
    "letters.value_counts().tail(1)"
   ]
  },
  {
   "cell_type": "markdown",
   "id": "fdf4c444-ef9c-46f4-83c7-a12b18f5f61c",
   "metadata": {},
   "source": [
    "3) How many vowels are in the Series?"
   ]
  },
  {
   "cell_type": "code",
   "execution_count": 272,
   "id": "914da01b-bd98-43c4-81bb-0de300c084ed",
   "metadata": {},
   "outputs": [
    {
     "data": {
      "text/plain": [
       "34"
      ]
     },
     "execution_count": 272,
     "metadata": {},
     "output_type": "execute_result"
    }
   ],
   "source": [
    "len(letters[letters.isin(list(vowels))])"
   ]
  },
  {
   "cell_type": "markdown",
   "id": "56b4fc50-3a17-46da-8c76-73b257fb8830",
   "metadata": {},
   "source": [
    "4) How many consonants are in the Series?"
   ]
  },
  {
   "cell_type": "code",
   "execution_count": 274,
   "id": "4938898b-adce-4483-8c4f-9799a4646478",
   "metadata": {},
   "outputs": [
    {
     "data": {
      "text/plain": [
       "166"
      ]
     },
     "execution_count": 274,
     "metadata": {},
     "output_type": "execute_result"
    }
   ],
   "source": [
    "len(letters[~letters.isin(list(vowels))])"
   ]
  },
  {
   "cell_type": "markdown",
   "id": "62585d7c-16b1-40f2-b87c-e9bdab059e74",
   "metadata": {},
   "source": [
    "5) Create a Series that has all of the same letters but uppercased."
   ]
  },
  {
   "cell_type": "code",
   "execution_count": 146,
   "id": "33c32e28-7550-4089-b549-0f77122ff974",
   "metadata": {},
   "outputs": [
    {
     "data": {
      "text/plain": [
       "0      H\n",
       "1      N\n",
       "2      V\n",
       "3      I\n",
       "4      D\n",
       "      ..\n",
       "195    R\n",
       "196    O\n",
       "197    G\n",
       "198    U\n",
       "199    Y\n",
       "Length: 200, dtype: object"
      ]
     },
     "execution_count": 146,
     "metadata": {},
     "output_type": "execute_result"
    }
   ],
   "source": [
    "letters.str.upper()"
   ]
  },
  {
   "cell_type": "markdown",
   "id": "6c15b7e4-8177-4c2b-91dc-053fd0054246",
   "metadata": {},
   "source": [
    "6) Create a bar plot of the frequencies of the 6 most commonly occuring letters."
   ]
  },
  {
   "cell_type": "code",
   "execution_count": 275,
   "id": "53cbccc5-3464-4429-bc49-174ef01d697b",
   "metadata": {},
   "outputs": [
    {
     "data": {
      "text/plain": [
       "<Axes: title={'center': '6 most commonly occuring letters'}, xlabel='Occurrences', ylabel='Letters'>"
      ]
     },
     "execution_count": 275,
     "metadata": {},
     "output_type": "execute_result"
    },
    {
     "data": {
      "image/png": "[encoded data removed]",
      "text/plain": [
       "<Figure size 640x480 with 1 Axes>"
      ]
     },
     "metadata": {},
     "output_type": "display_data"
    }
   ],
   "source": [
    "letters.value_counts().head(6).plot.barh( ylabel = 'Letters', xlabel = 'Occurrences', title = '6 most commonly occuring letters', color = 'turquoise')"
   ]
  },
  {
   "cell_type": "markdown",
   "id": "d09f3dc1-c531-4884-9460-5a6dea4a9ef1",
   "metadata": {},
   "source": [
    "Use pandas to create a Series named numbers from the following list:"
   ]
  },
  {
   "cell_type": "code",
   "execution_count": 25,
   "id": "720291f2-77cf-4002-a02a-6285107fe34b",
   "metadata": {},
   "outputs": [
    {
     "data": {
      "text/plain": [
       "0       $796,459.41\n",
       "1           $278.60\n",
       "2       $482,571.67\n",
       "3     $4,503,915.98\n",
       "4      $2,121,418.3\n",
       "5      $1,260,813.3\n",
       "6        $87,231.01\n",
       "7     $1,509,175.45\n",
       "8     $4,138,548.00\n",
       "9     $2,848,913.80\n",
       "10      $594,715.39\n",
       "11    $4,789,988.17\n",
       "12     $4,513,644.5\n",
       "13    $3,191,059.97\n",
       "14    $1,758,712.24\n",
       "15    $4,338,283.54\n",
       "16    $4,738,303.38\n",
       "17    $2,791,759.67\n",
       "18      $769,681.94\n",
       "19      $452,650.23\n",
       "dtype: object"
      ]
     },
     "execution_count": 25,
     "metadata": {},
     "output_type": "execute_result"
    }
   ],
   "source": [
    "numb = list(['$796,459.41', '$278.60', '$482,571.67', '$4,503,915.98', '$2,121,418.3', '$1,260,813.3', '$87,231.01', '$1,509,175.45', '$4,138,548.00', '$2,848,913.80', '$594,715.39', '$4,789,988.17', '$4,513,644.5', '$3,191,059.97', '$1,758,712.24', '$4,338,283.54', '$4,738,303.38', '$2,791,759.67', '$769,681.94', '$452,650.23'])\n",
    "numbers = pd.Series(numb)\n",
    "numbers"
   ]
  },
  {
   "cell_type": "markdown",
   "id": "2966b1a0-b9d3-4499-9560-124372a7b6bc",
   "metadata": {},
   "source": [
    "1) What is the data type of the numbers Series?"
   ]
  },
  {
   "cell_type": "code",
   "execution_count": 26,
   "id": "200a7f7e-6abd-4389-bf8e-9ad11b21f4fa",
   "metadata": {},
   "outputs": [
    {
     "data": {
      "text/plain": [
       "dtype('O')"
      ]
     },
     "execution_count": 26,
     "metadata": {},
     "output_type": "execute_result"
    }
   ],
   "source": [
    "numbers.dtype"
   ]
  },
  {
   "cell_type": "markdown",
   "id": "b6689d90-e670-4bee-8f69-78ee068062b2",
   "metadata": {},
   "source": [
    "2) How many elements are in the number Series?"
   ]
  },
  {
   "cell_type": "code",
   "execution_count": 27,
   "id": "704e51ea-d51a-4739-8680-687e8ed27dd6",
   "metadata": {},
   "outputs": [
    {
     "data": {
      "text/plain": [
       "20"
      ]
     },
     "execution_count": 27,
     "metadata": {},
     "output_type": "execute_result"
    }
   ],
   "source": [
    "len(numbers)"
   ]
  },
  {
   "cell_type": "markdown",
   "id": "23a64baf-0ab2-4fb3-9f63-29026a32f831",
   "metadata": {},
   "source": [
    "3) Perform the necessary manipulations by accessing Series attributes and methods to convert the numbers Series to a numeric data type."
   ]
  },
  {
   "cell_type": "code",
   "execution_count": 28,
   "id": "531046fa-9ef7-479a-bb5c-674c2f2d0bf1",
   "metadata": {},
   "outputs": [
    {
     "name": "stderr",
     "output_type": "stream",
     "text": [
      "/var/folders/7d/j3xl67tj7_182fyw9tbm3rkm0000gn/T/ipykernel_33893/3166955852.py:1: FutureWarning: The default value of regex will change from True to False in a future version. In addition, single character regular expressions will *not* be treated as literal strings when regex=True.\n",
      "  flt_num = numbers.str.replace('$', '').str.replace(',', '').astype(float)\n"
     ]
    },
    {
     "data": {
      "text/plain": [
       "0      796459.41\n",
       "1         278.60\n",
       "2      482571.67\n",
       "3     4503915.98\n",
       "4     2121418.30\n",
       "5     1260813.30\n",
       "6       87231.01\n",
       "7     1509175.45\n",
       "8     4138548.00\n",
       "9     2848913.80\n",
       "10     594715.39\n",
       "11    4789988.17\n",
       "12    4513644.50\n",
       "13    3191059.97\n",
       "14    1758712.24\n",
       "15    4338283.54\n",
       "16    4738303.38\n",
       "17    2791759.67\n",
       "18     769681.94\n",
       "19     452650.23\n",
       "dtype: float64"
      ]
     },
     "execution_count": 28,
     "metadata": {},
     "output_type": "execute_result"
    }
   ],
   "source": [
    "flt_num = numbers.str.replace('$', '').str.replace(',', '').astype(float)\n",
    "flt_num"
   ]
  },
  {
   "cell_type": "markdown",
   "id": "52be52c4-2ba8-41a2-b562-ccbe0c26dcc7",
   "metadata": {},
   "source": [
    "4) Run the code to discover the maximum value from the Series."
   ]
  },
  {
   "cell_type": "code",
   "execution_count": 173,
   "id": "72fc3f94-49c8-41d4-8f82-74ae99605549",
   "metadata": {},
   "outputs": [
    {
     "data": {
      "text/plain": [
       "4789988.17"
      ]
     },
     "execution_count": 173,
     "metadata": {},
     "output_type": "execute_result"
    }
   ],
   "source": [
    "flt_num.max()"
   ]
  },
  {
   "cell_type": "markdown",
   "id": "12883e65-1bd3-4819-a835-23b81e0c0795",
   "metadata": {},
   "source": [
    "5) Run the code to discover the minimum value from the Series."
   ]
  },
  {
   "cell_type": "code",
   "execution_count": 177,
   "id": "7dba6c5e-33f3-48e4-86b4-742e7a521907",
   "metadata": {},
   "outputs": [
    {
     "data": {
      "text/plain": [
       "278.6"
      ]
     },
     "execution_count": 177,
     "metadata": {},
     "output_type": "execute_result"
    }
   ],
   "source": [
    "flt_num.min()"
   ]
  },
  {
   "cell_type": "markdown",
   "id": "c9252ba6-7b2c-4191-90ca-428bfc99d1dd",
   "metadata": {},
   "source": [
    "6) What is the range of the values in the Series?"
   ]
  },
  {
   "cell_type": "code",
   "execution_count": 277,
   "id": "6e7e0765-e364-46d1-91b8-08b29fa5c216",
   "metadata": {},
   "outputs": [
    {
     "data": {
      "text/plain": [
       "(278.6, 4789988.17)"
      ]
     },
     "execution_count": 277,
     "metadata": {},
     "output_type": "execute_result"
    }
   ],
   "source": [
    "(flt_num.min(), (flt_num.max()))"
   ]
  },
  {
   "cell_type": "markdown",
   "id": "82b19430-17e4-45c1-ad23-06804e8b59eb",
   "metadata": {},
   "source": [
    "7) Bin the data into 4 equally sized intervals or bins and output how many values fall into each bin."
   ]
  },
  {
   "cell_type": "code",
   "execution_count": 184,
   "id": "248de13f-e368-45f2-8a3f-5656e01d7c3d",
   "metadata": {},
   "outputs": [],
   "source": [
    "q_num = flt_num.sort_values()"
   ]
  },
  {
   "cell_type": "code",
   "execution_count": 186,
   "id": "130698a7-5056-4e6f-a82a-42afee393636",
   "metadata": {},
   "outputs": [
    {
     "data": {
      "text/plain": [
       "1         278.60\n",
       "6       87231.01\n",
       "19     452650.23\n",
       "2      482571.67\n",
       "10     594715.39\n",
       "18     769681.94\n",
       "0      796459.41\n",
       "5     1260813.30\n",
       "7     1509175.45\n",
       "14    1758712.24\n",
       "4     2121418.30\n",
       "17    2791759.67\n",
       "9     2848913.80\n",
       "13    3191059.97\n",
       "8     4138548.00\n",
       "15    4338283.54\n",
       "3     4503915.98\n",
       "12    4513644.50\n",
       "16    4738303.38\n",
       "11    4789988.17\n",
       "dtype: float64"
      ]
     },
     "execution_count": 186,
     "metadata": {},
     "output_type": "execute_result"
    }
   ],
   "source": [
    "q_num"
   ]
  },
  {
   "cell_type": "code",
   "execution_count": 187,
   "id": "35d78fc6-725c-4996-82f8-a8ef7f6c4112",
   "metadata": {},
   "outputs": [],
   "source": [
    "first_val = sec_val - (q_num.max() / 4)"
   ]
  },
  {
   "cell_type": "code",
   "execution_count": 188,
   "id": "1fa0dc0c-ea50-4757-9bf2-942f773a4f0e",
   "metadata": {},
   "outputs": [],
   "source": [
    "sec_val = third_val - (q_num.max() / 4)"
   ]
  },
  {
   "cell_type": "code",
   "execution_count": 190,
   "id": "2163fa11-b077-40ac-81f5-3c887ae6f43b",
   "metadata": {},
   "outputs": [],
   "source": [
    "third_val = q_num.max() - (q_num.max() / 4)"
   ]
  },
  {
   "cell_type": "code",
   "execution_count": 191,
   "id": "9b7701ce-c34d-4bfc-a71f-980dd37c9be9",
   "metadata": {},
   "outputs": [],
   "source": [
    "fourth_val = q_num.max()"
   ]
  },
  {
   "cell_type": "code",
   "execution_count": 281,
   "id": "0d426a80-e71b-453d-88fc-d7174a4ef7dc",
   "metadata": {},
   "outputs": [
    {
     "data": {
      "text/plain": [
       "1     q1\n",
       "6     q1\n",
       "19    q1\n",
       "2     q1\n",
       "10    q1\n",
       "18    q1\n",
       "0     q1\n",
       "5     q2\n",
       "7     q2\n",
       "14    q2\n",
       "4     q2\n",
       "17    q3\n",
       "9     q3\n",
       "13    q3\n",
       "8     q4\n",
       "15    q4\n",
       "3     q4\n",
       "12    q4\n",
       "16    q4\n",
       "11    q4\n",
       "dtype: category\n",
       "Categories (4, object): ['q1' < 'q2' < 'q3' < 'q4']"
      ]
     },
     "execution_count": 281,
     "metadata": {},
     "output_type": "execute_result"
    }
   ],
   "source": [
    "bin = pd.cut(q_num, [0, first_val, sec_val, third_val, fourth_val], labels=['q1', 'q2', 'q3', 'q4'])\n",
    "bin"
   ]
  },
  {
   "cell_type": "markdown",
   "id": "d13bca6f-5715-497b-8c17-d074485785a9",
   "metadata": {},
   "source": [
    "8) Plot the binned data in a meaningful way. Be sure to include a title and axis labels."
   ]
  },
  {
   "cell_type": "code",
   "execution_count": 283,
   "id": "ad62bc69-8b05-4386-a458-8862b13cc81b",
   "metadata": {},
   "outputs": [
    {
     "data": {
      "text/plain": [
       "<Axes: title={'center': 'Quartiles'}, xlabel='Count', ylabel='Intervals'>"
      ]
     },
     "execution_count": 283,
     "metadata": {},
     "output_type": "execute_result"
    },
    {
     "data": {
      "image/png": "[encoded data removed]",
      "text/plain": [
       "<Figure size 640x480 with 1 Axes>"
      ]
     },
     "metadata": {},
     "output_type": "display_data"
    }
   ],
   "source": [
    "bin.value_counts().plot.barh(title = 'Quartiles', color = 'maroon', xlabel = 'Count', ylabel = 'Intervals')"
   ]
  },
  {
   "cell_type": "markdown",
   "id": "49d27551-1460-4c3e-bf4e-8c5805d606b8",
   "metadata": {},
   "source": [
    "Use pandas to create a Series named exam_scores from the following list:\n",
    "\n",
    "[60, 86, 75, 62, 93, 71, 60, 83, 95, 78, 65, 72, 69, 81, 96, 80, 85, 92, 82, 78]"
   ]
  },
  {
   "cell_type": "code",
   "execution_count": 14,
   "id": "6cf325ff-1d9c-4d0c-bea0-47423bf8b9bd",
   "metadata": {},
   "outputs": [
    {
     "data": {
      "text/plain": [
       "0     60\n",
       "1     86\n",
       "2     75\n",
       "3     62\n",
       "4     93\n",
       "5     71\n",
       "6     60\n",
       "7     83\n",
       "8     95\n",
       "9     78\n",
       "10    65\n",
       "11    72\n",
       "12    69\n",
       "13    81\n",
       "14    96\n",
       "15    80\n",
       "16    85\n",
       "17    92\n",
       "18    82\n",
       "19    78\n",
       "dtype: int64"
      ]
     },
     "execution_count": 14,
     "metadata": {},
     "output_type": "execute_result"
    }
   ],
   "source": [
    "nums = list([60, 86, 75, 62, 93, 71, 60, 83, 95, 78, 65, 72, 69, 81, 96, 80, 85, 92, 82, 78])\n",
    "exam_scores = pd.Series(nums)\n",
    "exam_scores"
   ]
  },
  {
   "cell_type": "markdown",
   "id": "0cf14dba-f0f0-470b-9fd0-bef3cd3f5280",
   "metadata": {},
   "source": [
    "1) How many elements are in the exam_scores Series?"
   ]
  },
  {
   "cell_type": "code",
   "execution_count": 15,
   "id": "25ba4c93-77ed-4020-95b8-181a80bbccb0",
   "metadata": {},
   "outputs": [
    {
     "data": {
      "text/plain": [
       "20"
      ]
     },
     "execution_count": 15,
     "metadata": {},
     "output_type": "execute_result"
    }
   ],
   "source": [
    "len(exam_scores)"
   ]
  },
  {
   "cell_type": "markdown",
   "id": "ddea490c-b4cc-4fb5-842f-00b8e3c4e887",
   "metadata": {},
   "source": [
    "2) Run the code to discover the minimum, the maximum, the mean, and the median scores for the exam_scores Series."
   ]
  },
  {
   "cell_type": "code",
   "execution_count": 287,
   "id": "2ba2235e-ac8c-4b57-8dae-2db3a2dd9163",
   "metadata": {},
   "outputs": [
    {
     "data": {
      "text/plain": [
       "count    20.000000\n",
       "mean     78.150000\n",
       "std      11.352139\n",
       "min      60.000000\n",
       "25%      70.500000\n",
       "50%      79.000000\n",
       "75%      85.250000\n",
       "max      96.000000\n",
       "dtype: float64"
      ]
     },
     "execution_count": 287,
     "metadata": {},
     "output_type": "execute_result"
    }
   ],
   "source": [
    "exam_scores.describe()"
   ]
  },
  {
   "cell_type": "markdown",
   "id": "bbf82254-9ac7-4e7e-8cac-344277a559e8",
   "metadata": {},
   "source": [
    "3) Plot the Series in a meaningful way and make sure your chart has a title and axis labels."
   ]
  },
  {
   "cell_type": "code",
   "execution_count": 290,
   "id": "814abf24-c17d-48a5-8c03-843c8ee97441",
   "metadata": {},
   "outputs": [
    {
     "data": {
      "text/plain": [
       "<Axes: title={'center': 'Exam scores'}, xlabel='Grades', ylabel='Students'>"
      ]
     },
     "execution_count": 290,
     "metadata": {},
     "output_type": "execute_result"
    },
    {
     "data": {
      "image/png": "[encoded data removed]",
      "text/plain": [
       "<Figure size 640x480 with 1 Axes>"
      ]
     },
     "metadata": {},
     "output_type": "display_data"
    }
   ],
   "source": [
    "exam_scores.plot.barh(title = 'Exam scores', color = 'pink', xlabel = 'Grades', ylabel = 'Students')"
   ]
  },
  {
   "cell_type": "markdown",
   "id": "b2f6df25-57d7-4902-9fbe-c88a3c4498d7",
   "metadata": {},
   "source": [
    "4) Write the code necessary to implement a curve for your exam_grades Series and save this as curved_grades. Add the necessary points to the highest grade to make it 100, and add the same number of points to every other score in the Series as well."
   ]
  },
  {
   "cell_type": "code",
   "execution_count": 18,
   "id": "2219f9ac-4fee-45a7-a207-420b403fe0c6",
   "metadata": {},
   "outputs": [
    {
     "data": {
      "text/plain": [
       "0      64\n",
       "1      90\n",
       "2      79\n",
       "3      66\n",
       "4      97\n",
       "5      75\n",
       "6      64\n",
       "7      87\n",
       "8      99\n",
       "9      82\n",
       "10     69\n",
       "11     76\n",
       "12     73\n",
       "13     85\n",
       "14    100\n",
       "15     84\n",
       "16     89\n",
       "17     96\n",
       "18     86\n",
       "19     82\n",
       "dtype: int64"
      ]
     },
     "execution_count": 18,
     "metadata": {},
     "output_type": "execute_result"
    }
   ],
   "source": [
    "curved_grades = exam_scores + (100 - exam_scores.max())\n",
    "curved_grades"
   ]
  },
  {
   "cell_type": "markdown",
   "id": "65701ed7-763f-44dd-af43-f7d7f118b009",
   "metadata": {},
   "source": [
    "5) Use a method to convert each of the numeric values in the curved_grades Series into a categorical value of letter grades. For example, 86 should be a 'B' and 95 should be an 'A'. Save this as a Series named letter_grades."
   ]
  },
  {
   "cell_type": "code",
   "execution_count": 19,
   "id": "9733b2a6-30ee-477d-9e3a-71994c979ac1",
   "metadata": {},
   "outputs": [
    {
     "data": {
      "text/plain": [
       "0     D\n",
       "1     A\n",
       "2     C\n",
       "3     D\n",
       "4     A\n",
       "5     C\n",
       "6     D\n",
       "7     B\n",
       "8     A\n",
       "9     B\n",
       "10    D\n",
       "11    C\n",
       "12    C\n",
       "13    B\n",
       "14    A\n",
       "15    B\n",
       "16    B\n",
       "17    A\n",
       "18    B\n",
       "19    B\n",
       "dtype: category\n",
       "Categories (5, object): ['F' < 'D' < 'C' < 'B' < 'A']"
      ]
     },
     "execution_count": 19,
     "metadata": {},
     "output_type": "execute_result"
    }
   ],
   "source": [
    "letter_grades = pd.cut(curved_grades, bins=[0, 59, 69, 79, 89, 100], labels=['F', 'D', 'C', 'B', 'A'])\n",
    "letter_grades"
   ]
  },
  {
   "cell_type": "markdown",
   "id": "8f553859-e388-43c5-90dd-208328a5cb29",
   "metadata": {},
   "source": [
    "6) Plot your new categorical letter_grades Series in a meaninful way and include a title and axis labels."
   ]
  },
  {
   "cell_type": "code",
   "execution_count": 293,
   "id": "375ff3fd-9f4b-4f39-9c10-8b920c01e6e5",
   "metadata": {},
   "outputs": [
    {
     "data": {
      "text/plain": [
       "<Axes: title={'center': 'Grades'}, xlabel='Frequency', ylabel='Letter grades'>"
      ]
     },
     "execution_count": 293,
     "metadata": {},
     "output_type": "execute_result"
    },
    {
     "data": {
      "image/png": "[encoded data removed]",
      "text/plain": [
       "<Figure size 640x480 with 1 Axes>"
      ]
     },
     "metadata": {},
     "output_type": "display_data"
    }
   ],
   "source": [
    "letter_grades.value_counts().plot.barh(title = 'Grades', color = 'purple', xlabel = 'Frequency', ylabel = 'Letter grades')"
   ]
  },
  {
   "cell_type": "code",
   "execution_count": null,
   "id": "e9974f23-e805-4999-826f-42961cf012d7",
   "metadata": {},
   "outputs": [],
   "source": []
  }
 ],
 "metadata": {
  "kernelspec": {
   "display_name": "Python 3 (ipykernel)",
   "language": "python",
   "name": "python3"
  },
  "language_info": {
   "codemirror_mode": {
    "name": "ipython",
    "version": 3
   },
   "file_extension": ".py",
   "mimetype": "text/x-python",
   "name": "python",
   "nbconvert_exporter": "python",
   "pygments_lexer": "ipython3",
   "version": "3.10.9"
  }
 },
 "nbformat": 4,
 "nbformat_minor": 5
}
